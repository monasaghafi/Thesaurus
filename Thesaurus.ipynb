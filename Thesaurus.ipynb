{
  "cells": [
    {
      "cell_type": "code",
      "execution_count": 1,
      "metadata": {
        "colab": {
          "base_uri": "https://localhost:8080/"
        },
        "id": "pQDPnweqtCvi",
        "outputId": "9fe03bb1-8c0b-4ca5-946b-ab18f612b647"
      },
      "outputs": [
        {
          "output_type": "stream",
          "name": "stdout",
          "text": [
            "--2024-05-06 18:29:33--  http://www.cs.cmu.edu/~ark/personas/data/MovieSummaries.tar.gz\n",
            "Resolving www.cs.cmu.edu (www.cs.cmu.edu)... 128.2.42.95\n",
            "Connecting to www.cs.cmu.edu (www.cs.cmu.edu)|128.2.42.95|:80... connected.\n",
            "HTTP request sent, awaiting response... 200 OK\n",
            "Length: 48002242 (46M) [application/x-gzip]\n",
            "Saving to: ‘MovieSummaries.tar.gz.10’\n",
            "\n",
            "MovieSummaries.tar. 100%[===================>]  45.78M  4.43MB/s    in 11s     \n",
            "\n",
            "2024-05-06 18:29:44 (4.26 MB/s) - ‘MovieSummaries.tar.gz.10’ saved [48002242/48002242]\n",
            "\n"
          ]
        }
      ],
      "source": [
        "!wget http://www.cs.cmu.edu/~ark/personas/data/MovieSummaries.tar.gz\n",
        "!tar -xf MovieSummaries.tar.gz"
      ]
    },
    {
      "cell_type": "code",
      "execution_count": 2,
      "metadata": {
        "colab": {
          "base_uri": "https://localhost:8080/"
        },
        "id": "W5Fmm_j4tkoq",
        "outputId": "234c3de1-b271-43f1-f43e-cd1de99199ba"
      },
      "outputs": [
        {
          "output_type": "stream",
          "name": "stdout",
          "text": [
            "<class 'pandas.core.frame.DataFrame'>\n",
            "RangeIndex: 42303 entries, 0 to 42302\n",
            "Data columns (total 2 columns):\n",
            " #   Column  Non-Null Count  Dtype \n",
            "---  ------  --------------  ----- \n",
            " 0   id      42303 non-null  int64 \n",
            " 1   text    42303 non-null  object\n",
            "dtypes: int64(1), object(1)\n",
            "memory usage: 661.1+ KB\n"
          ]
        }
      ],
      "source": [
        "import nltk\n",
        "import pandas as pd\n",
        "\n",
        "df2 = pd.read_csv(\"/content/MovieSummaries/plot_summaries.txt\", delimiter = \"\\t\",names=[\"id\",\"text\"])\n",
        "df2.info()"
      ]
    },
    {
      "cell_type": "code",
      "execution_count": 3,
      "metadata": {
        "colab": {
          "base_uri": "https://localhost:8080/",
          "height": 206
        },
        "id": "VnCtbyFnuX8-",
        "outputId": "3e9d72e7-2cda-4133-b4eb-380de8b7fa5b"
      },
      "outputs": [
        {
          "output_type": "execute_result",
          "data": {
            "text/plain": [
              "         id                                               text\n",
              "0  23890098  Shlykov, a hard-working taxi driver and Lyosha...\n",
              "1  31186339  The nation of Panem consists of a wealthy Capi...\n",
              "2  20663735  Poovalli Induchoodan  is sentenced for six yea...\n",
              "3   2231378  The Lemon Drop Kid , a New York City swindler,...\n",
              "4    595909  Seventh-day Adventist Church pastor Michael Ch..."
            ],
            "text/html": [
              "\n",
              "  <div id=\"df-17dd9cd1-83a9-4b14-b92c-46a8ffb84a84\" class=\"colab-df-container\">\n",
              "    <div>\n",
              "<style scoped>\n",
              "    .dataframe tbody tr th:only-of-type {\n",
              "        vertical-align: middle;\n",
              "    }\n",
              "\n",
              "    .dataframe tbody tr th {\n",
              "        vertical-align: top;\n",
              "    }\n",
              "\n",
              "    .dataframe thead th {\n",
              "        text-align: right;\n",
              "    }\n",
              "</style>\n",
              "<table border=\"1\" class=\"dataframe\">\n",
              "  <thead>\n",
              "    <tr style=\"text-align: right;\">\n",
              "      <th></th>\n",
              "      <th>id</th>\n",
              "      <th>text</th>\n",
              "    </tr>\n",
              "  </thead>\n",
              "  <tbody>\n",
              "    <tr>\n",
              "      <th>0</th>\n",
              "      <td>23890098</td>\n",
              "      <td>Shlykov, a hard-working taxi driver and Lyosha...</td>\n",
              "    </tr>\n",
              "    <tr>\n",
              "      <th>1</th>\n",
              "      <td>31186339</td>\n",
              "      <td>The nation of Panem consists of a wealthy Capi...</td>\n",
              "    </tr>\n",
              "    <tr>\n",
              "      <th>2</th>\n",
              "      <td>20663735</td>\n",
              "      <td>Poovalli Induchoodan  is sentenced for six yea...</td>\n",
              "    </tr>\n",
              "    <tr>\n",
              "      <th>3</th>\n",
              "      <td>2231378</td>\n",
              "      <td>The Lemon Drop Kid , a New York City swindler,...</td>\n",
              "    </tr>\n",
              "    <tr>\n",
              "      <th>4</th>\n",
              "      <td>595909</td>\n",
              "      <td>Seventh-day Adventist Church pastor Michael Ch...</td>\n",
              "    </tr>\n",
              "  </tbody>\n",
              "</table>\n",
              "</div>\n",
              "    <div class=\"colab-df-buttons\">\n",
              "\n",
              "  <div class=\"colab-df-container\">\n",
              "    <button class=\"colab-df-convert\" onclick=\"convertToInteractive('df-17dd9cd1-83a9-4b14-b92c-46a8ffb84a84')\"\n",
              "            title=\"Convert this dataframe to an interactive table.\"\n",
              "            style=\"display:none;\">\n",
              "\n",
              "  <svg xmlns=\"http://www.w3.org/2000/svg\" height=\"24px\" viewBox=\"0 -960 960 960\">\n",
              "    <path d=\"M120-120v-720h720v720H120Zm60-500h600v-160H180v160Zm220 220h160v-160H400v160Zm0 220h160v-160H400v160ZM180-400h160v-160H180v160Zm440 0h160v-160H620v160ZM180-180h160v-160H180v160Zm440 0h160v-160H620v160Z\"/>\n",
              "  </svg>\n",
              "    </button>\n",
              "\n",
              "  <style>\n",
              "    .colab-df-container {\n",
              "      display:flex;\n",
              "      gap: 12px;\n",
              "    }\n",
              "\n",
              "    .colab-df-convert {\n",
              "      background-color: #E8F0FE;\n",
              "      border: none;\n",
              "      border-radius: 50%;\n",
              "      cursor: pointer;\n",
              "      display: none;\n",
              "      fill: #1967D2;\n",
              "      height: 32px;\n",
              "      padding: 0 0 0 0;\n",
              "      width: 32px;\n",
              "    }\n",
              "\n",
              "    .colab-df-convert:hover {\n",
              "      background-color: #E2EBFA;\n",
              "      box-shadow: 0px 1px 2px rgba(60, 64, 67, 0.3), 0px 1px 3px 1px rgba(60, 64, 67, 0.15);\n",
              "      fill: #174EA6;\n",
              "    }\n",
              "\n",
              "    .colab-df-buttons div {\n",
              "      margin-bottom: 4px;\n",
              "    }\n",
              "\n",
              "    [theme=dark] .colab-df-convert {\n",
              "      background-color: #3B4455;\n",
              "      fill: #D2E3FC;\n",
              "    }\n",
              "\n",
              "    [theme=dark] .colab-df-convert:hover {\n",
              "      background-color: #434B5C;\n",
              "      box-shadow: 0px 1px 3px 1px rgba(0, 0, 0, 0.15);\n",
              "      filter: drop-shadow(0px 1px 2px rgba(0, 0, 0, 0.3));\n",
              "      fill: #FFFFFF;\n",
              "    }\n",
              "  </style>\n",
              "\n",
              "    <script>\n",
              "      const buttonEl =\n",
              "        document.querySelector('#df-17dd9cd1-83a9-4b14-b92c-46a8ffb84a84 button.colab-df-convert');\n",
              "      buttonEl.style.display =\n",
              "        google.colab.kernel.accessAllowed ? 'block' : 'none';\n",
              "\n",
              "      async function convertToInteractive(key) {\n",
              "        const element = document.querySelector('#df-17dd9cd1-83a9-4b14-b92c-46a8ffb84a84');\n",
              "        const dataTable =\n",
              "          await google.colab.kernel.invokeFunction('convertToInteractive',\n",
              "                                                    [key], {});\n",
              "        if (!dataTable) return;\n",
              "\n",
              "        const docLinkHtml = 'Like what you see? Visit the ' +\n",
              "          '<a target=\"_blank\" href=https://colab.research.google.com/notebooks/data_table.ipynb>data table notebook</a>'\n",
              "          + ' to learn more about interactive tables.';\n",
              "        element.innerHTML = '';\n",
              "        dataTable['output_type'] = 'display_data';\n",
              "        await google.colab.output.renderOutput(dataTable, element);\n",
              "        const docLink = document.createElement('div');\n",
              "        docLink.innerHTML = docLinkHtml;\n",
              "        element.appendChild(docLink);\n",
              "      }\n",
              "    </script>\n",
              "  </div>\n",
              "\n",
              "\n",
              "<div id=\"df-c9e7ad00-7d3f-48d6-8b96-70ec6e9b1a11\">\n",
              "  <button class=\"colab-df-quickchart\" onclick=\"quickchart('df-c9e7ad00-7d3f-48d6-8b96-70ec6e9b1a11')\"\n",
              "            title=\"Suggest charts\"\n",
              "            style=\"display:none;\">\n",
              "\n",
              "<svg xmlns=\"http://www.w3.org/2000/svg\" height=\"24px\"viewBox=\"0 0 24 24\"\n",
              "     width=\"24px\">\n",
              "    <g>\n",
              "        <path d=\"M19 3H5c-1.1 0-2 .9-2 2v14c0 1.1.9 2 2 2h14c1.1 0 2-.9 2-2V5c0-1.1-.9-2-2-2zM9 17H7v-7h2v7zm4 0h-2V7h2v10zm4 0h-2v-4h2v4z\"/>\n",
              "    </g>\n",
              "</svg>\n",
              "  </button>\n",
              "\n",
              "<style>\n",
              "  .colab-df-quickchart {\n",
              "      --bg-color: #E8F0FE;\n",
              "      --fill-color: #1967D2;\n",
              "      --hover-bg-color: #E2EBFA;\n",
              "      --hover-fill-color: #174EA6;\n",
              "      --disabled-fill-color: #AAA;\n",
              "      --disabled-bg-color: #DDD;\n",
              "  }\n",
              "\n",
              "  [theme=dark] .colab-df-quickchart {\n",
              "      --bg-color: #3B4455;\n",
              "      --fill-color: #D2E3FC;\n",
              "      --hover-bg-color: #434B5C;\n",
              "      --hover-fill-color: #FFFFFF;\n",
              "      --disabled-bg-color: #3B4455;\n",
              "      --disabled-fill-color: #666;\n",
              "  }\n",
              "\n",
              "  .colab-df-quickchart {\n",
              "    background-color: var(--bg-color);\n",
              "    border: none;\n",
              "    border-radius: 50%;\n",
              "    cursor: pointer;\n",
              "    display: none;\n",
              "    fill: var(--fill-color);\n",
              "    height: 32px;\n",
              "    padding: 0;\n",
              "    width: 32px;\n",
              "  }\n",
              "\n",
              "  .colab-df-quickchart:hover {\n",
              "    background-color: var(--hover-bg-color);\n",
              "    box-shadow: 0 1px 2px rgba(60, 64, 67, 0.3), 0 1px 3px 1px rgba(60, 64, 67, 0.15);\n",
              "    fill: var(--button-hover-fill-color);\n",
              "  }\n",
              "\n",
              "  .colab-df-quickchart-complete:disabled,\n",
              "  .colab-df-quickchart-complete:disabled:hover {\n",
              "    background-color: var(--disabled-bg-color);\n",
              "    fill: var(--disabled-fill-color);\n",
              "    box-shadow: none;\n",
              "  }\n",
              "\n",
              "  .colab-df-spinner {\n",
              "    border: 2px solid var(--fill-color);\n",
              "    border-color: transparent;\n",
              "    border-bottom-color: var(--fill-color);\n",
              "    animation:\n",
              "      spin 1s steps(1) infinite;\n",
              "  }\n",
              "\n",
              "  @keyframes spin {\n",
              "    0% {\n",
              "      border-color: transparent;\n",
              "      border-bottom-color: var(--fill-color);\n",
              "      border-left-color: var(--fill-color);\n",
              "    }\n",
              "    20% {\n",
              "      border-color: transparent;\n",
              "      border-left-color: var(--fill-color);\n",
              "      border-top-color: var(--fill-color);\n",
              "    }\n",
              "    30% {\n",
              "      border-color: transparent;\n",
              "      border-left-color: var(--fill-color);\n",
              "      border-top-color: var(--fill-color);\n",
              "      border-right-color: var(--fill-color);\n",
              "    }\n",
              "    40% {\n",
              "      border-color: transparent;\n",
              "      border-right-color: var(--fill-color);\n",
              "      border-top-color: var(--fill-color);\n",
              "    }\n",
              "    60% {\n",
              "      border-color: transparent;\n",
              "      border-right-color: var(--fill-color);\n",
              "    }\n",
              "    80% {\n",
              "      border-color: transparent;\n",
              "      border-right-color: var(--fill-color);\n",
              "      border-bottom-color: var(--fill-color);\n",
              "    }\n",
              "    90% {\n",
              "      border-color: transparent;\n",
              "      border-bottom-color: var(--fill-color);\n",
              "    }\n",
              "  }\n",
              "</style>\n",
              "\n",
              "  <script>\n",
              "    async function quickchart(key) {\n",
              "      const quickchartButtonEl =\n",
              "        document.querySelector('#' + key + ' button');\n",
              "      quickchartButtonEl.disabled = true;  // To prevent multiple clicks.\n",
              "      quickchartButtonEl.classList.add('colab-df-spinner');\n",
              "      try {\n",
              "        const charts = await google.colab.kernel.invokeFunction(\n",
              "            'suggestCharts', [key], {});\n",
              "      } catch (error) {\n",
              "        console.error('Error during call to suggestCharts:', error);\n",
              "      }\n",
              "      quickchartButtonEl.classList.remove('colab-df-spinner');\n",
              "      quickchartButtonEl.classList.add('colab-df-quickchart-complete');\n",
              "    }\n",
              "    (() => {\n",
              "      let quickchartButtonEl =\n",
              "        document.querySelector('#df-c9e7ad00-7d3f-48d6-8b96-70ec6e9b1a11 button');\n",
              "      quickchartButtonEl.style.display =\n",
              "        google.colab.kernel.accessAllowed ? 'block' : 'none';\n",
              "    })();\n",
              "  </script>\n",
              "</div>\n",
              "    </div>\n",
              "  </div>\n"
            ],
            "application/vnd.google.colaboratory.intrinsic+json": {
              "type": "dataframe",
              "variable_name": "df2",
              "summary": "{\n  \"name\": \"df2\",\n  \"rows\": 42303,\n  \"fields\": [\n    {\n      \"column\": \"id\",\n      \"properties\": {\n        \"dtype\": \"number\",\n        \"std\": 11119939,\n        \"min\": 330,\n        \"max\": 37501922,\n        \"num_unique_values\": 42303,\n        \"samples\": [\n          22333286,\n          19074986,\n          31193551\n        ],\n        \"semantic_type\": \"\",\n        \"description\": \"\"\n      }\n    },\n    {\n      \"column\": \"text\",\n      \"properties\": {\n        \"dtype\": \"string\",\n        \"num_unique_values\": 42295,\n        \"samples\": [\n          \"The film focuses on a new resident, Joe Blackburn, who is 21 and begins the documentary weighing over 30 stone  and with fears for his health. The plot follows his struggle to integrate with existing members of the home. Since PWS often causes immaturity, the early stages of the documentary show Joe having a variety of tantrums, which have been exploited for humorous value on such sites as YouTube. The second resident that the documentary focuses on is Tamara Allwood, who was at one point close to death from overeating but by the time of filming has gained enough autonomy to gain the rights to visit her mother in London. 35-year-old Tamara has become estranged from her mother, who has never properly understood Tamara's illness, which was diagnosed relatively late in her life. The meeting is unsuccessful. However, Tamara is hopeful by the end of the documentary, as she gets back together with an old boyfriend, who vows to protect her from her desire to eat. They get engaged and she has high hopes for the future.\",\n          \"The film is prefaced with a quotation from the poem \\\"The Young British Soldier\\\" by Rudyard Kipling:  When you're wounded an' left on Afghanistan's plains An' the women come out to cut up your remains Jus' roll to your rifle an' blow out your brains An' go to your Gawd like a soldier.  In 1981 Afghanistan, a Soviet tank unit viciously attacks a Pashtun village harboring a group of mujahideen fighters. Following the assault, one of the tanks, commanded by the ruthless Commander Daskal , gets separated from the unit and enters a blind valley. Taj  returns to discover the village destroyed, his father killed and his brother martyred by being crushed under the tank of the retreating Soviet forces. As the new khan, following his brother&#39;s death, Taj is spurred to seek revenge by his cousin, the scavenger Mustafa - and together they lead a band of mujahideen fighters into the valley to pursue the separated tank, counting on their RPG-7 anti-tank weapon to destroy it. The tank&#39;s crew is made up of four Soviets and an Afghan communist soldier. As night falls and the crew sets up camp, the Afghan tank crewman Samad  educates the tank driver, Konstantin Koverchenko , about the fundamental principles of Pashtunwali, the Pashtun people&#39;s code of honour: milmastia , badal , and nanawatai, which requires even an enemy to be given sanctuary if he asks. As the plot progresses, Commander Daskal  demonstrates his ruthlessness not only to the enemy, but also to his own men. He despises Samad for his ethnic association to the enemy and, after a couple attempts to kill him, finally gets his wish on the pretext of suspecting Samad of collaborating with the mujahadeen. After Koverchenko threatens to report Daskal for the killing, Daskal entraps him and orders Kaminski  and Golikov  to tie him to a rock, with a grenade behind his head to serve as booby-trap for the mujahideen. Some wild dogs come upon him and as Koverchenko tries to kick at them, the grenade rolls down the rock and explodes, killing several dogs but leaving Konstantin unhurt. A group of women from the village, who had been trailing the mujahideen to offer their support, come across Koverchenko and begin to stone him, calling for his blood as revenge . As the mujahideen approach, Koverchenko recalls the term nanawatai  and repeats it until Taj cuts him free, and allows him to follow their procession. That night, hidden in a cave, the fighters eat - and Taj asks Koverchenko in broken language if he will fix their broken RPG-7, and help them destroy the tank. As the remaining three members of the tank crew begin to realize they are trapped in the valley, a Soviet helicopter appears and offers to rescue them. Daskal, caring more for his tank than his men, refuses the offer and simply refills the vehicle&#39;s oil and gasoline. They get their bearings from the helicopter pilot and head back into the narrow mountain pass from which they came, looking for the way out of the valley. Ironically, they later return to a water hole  to cool the engines, and find the helicopter crew dead, having drunk from the small pool. The mujahideen and Koverchenko catch up with the tank crew there, and a cat-and-mouse chase begins near the mountain pass, culminating in an opportunity for Koverchenko to disable the tank with the RPG. Konstantin fires as the tank is going out of range, but hits only the main gun. Just as it seems the tank will escape, an explosion set off by the village women in the cliffs above the tank sets boulders rolling onto it, disabling it at last. The tank crew is forced out and Koverchenko pleads nanawatai on their behalf. Taj reluctantly agrees. Konstantin tells Daskal that he wants him to live to see the Soviets lose the war, which is &#34;no Stalingrad&#34;, and states that &#34;It's hard to be a good soldier in a rotten war...how is it that we're the Nazis this time?\\\" Kaminski and Golikov flee on foot, but Daskal is overrun by the women, who carry out their revenge by stoning him before taking his bloodied uniform and boots as trophies and being reprimanded by Taj for their barbaric and merciless act. A Soviet search-and-rescue helicopter appears, and despite the camaraderie that has developed between him and Taj, Konstantin goes with the helicopter. Taj orders his men not to fire on him as he is being hoisted up into the helicopter. Before being hoisted up, Koverchenko salutes Taj by holding an Afghan jezail musket, which Taj gave to him earlier, above his head. The film ends with Koverchenko being hoisted up to the flying helicopter, flying away, the jezail still clenched in his hand.\",\n          \"Motorist Jane Lindstrom has a blowout and seeks assistance at an estate owned by Caligari, a very polite man with a German accent. After spending the night she finds that Caligari will not let her leave; he proceeds to ask some personal questions and shows her disgusting pictures. Prevented by guards from leaving, and unable to telephone, Jane seeks allies among the other guests but finds only three possible candidates: the older Paul, the younger Mark , and a lively elderly woman named Ruth. After seeing Ruth tortured, Jane goes to Paul who convinces her to confront Caligari. Jane does so and tries to seduce him, as she suspects he has been spying on her in the bath. After that fails, Caligari reveals that he and Paul and are one and the same person and Jane runs down a corridor of wildly shifting imagery that acts as a transition. Finally it is revealed that Jane is a mental patient and everything the audience has seen up to this point has been her distortion of the institute she was in: the personal questions were psychoanalysis, the disgusting pictures were Rorschach cards, Ruth's torture was shock treatment, and even Caligari's coat of arms was a distorted version of the medical caduceus symbol. Cured, Jane is taken from the asylum by Mark, now revealed to be her son; and then we see Jane's face. She now has many wrinkles implying that she is far older than the smooth-skinned woman we have seen through most of the film. A sample of dialog regarding sexual intercourse from the film was later sampled by Nine Inch Nails on their cover of \\\"Get Down, Make Love\\\" by Queen.\"\n        ],\n        \"semantic_type\": \"\",\n        \"description\": \"\"\n      }\n    }\n  ]\n}"
            }
          },
          "metadata": {},
          "execution_count": 3
        }
      ],
      "source": [
        "df2.head()"
      ]
    },
    {
      "cell_type": "markdown",
      "metadata": {
        "id": "xJ6sR2YhvY45"
      },
      "source": [
        "Preprocess the Text Data:"
      ]
    },
    {
      "cell_type": "code",
      "source": [
        "nltk.download('punkt')\n",
        "nltk.download('stopwords')"
      ],
      "metadata": {
        "colab": {
          "base_uri": "https://localhost:8080/"
        },
        "id": "PgIHcUOlb03D",
        "outputId": "82bfbfe0-fc61-4fca-e70f-c93f4d0f888e"
      },
      "execution_count": 4,
      "outputs": [
        {
          "output_type": "stream",
          "name": "stderr",
          "text": [
            "[nltk_data] Downloading package punkt to /root/nltk_data...\n",
            "[nltk_data]   Package punkt is already up-to-date!\n",
            "[nltk_data] Downloading package stopwords to /root/nltk_data...\n",
            "[nltk_data]   Package stopwords is already up-to-date!\n"
          ]
        },
        {
          "output_type": "execute_result",
          "data": {
            "text/plain": [
              "True"
            ]
          },
          "metadata": {},
          "execution_count": 4
        }
      ]
    },
    {
      "cell_type": "code",
      "execution_count": 5,
      "metadata": {
        "colab": {
          "base_uri": "https://localhost:8080/"
        },
        "id": "ckrT9z5VJZzA",
        "outputId": "03520b51-8da8-4bbf-8160-432df57068a9"
      },
      "outputs": [
        {
          "output_type": "stream",
          "name": "stderr",
          "text": [
            "[nltk_data] Downloading package averaged_perceptron_tagger to\n",
            "[nltk_data]     /root/nltk_data...\n",
            "[nltk_data]   Package averaged_perceptron_tagger is already up-to-\n",
            "[nltk_data]       date!\n",
            "[nltk_data] Downloading package wordnet to /root/nltk_data...\n",
            "[nltk_data]   Package wordnet is already up-to-date!\n"
          ]
        },
        {
          "output_type": "execute_result",
          "data": {
            "text/plain": [
              "True"
            ]
          },
          "metadata": {},
          "execution_count": 5
        }
      ],
      "source": [
        "nltk.download('averaged_perceptron_tagger')\n",
        "nltk.download('wordnet')"
      ]
    },
    {
      "cell_type": "code",
      "execution_count": 6,
      "metadata": {
        "id": "YTjKgTMyJSMB"
      },
      "outputs": [],
      "source": [
        "import pandas as pd\n",
        "import string\n",
        "import nltk\n",
        "from nltk.tokenize import word_tokenize\n",
        "from nltk.corpus import stopwords\n",
        "from sklearn.feature_extraction.text import CountVectorizer\n",
        "from nltk.stem import WordNetLemmatizer\n"
      ]
    },
    {
      "cell_type": "code",
      "source": [
        "# Load the dataset\n",
        "df2 = pd.read_csv(\"/content/MovieSummaries/plot_summaries.txt\", delimiter=\"\\t\", names=[\"id\", \"text\"])\n"
      ],
      "metadata": {
        "id": "7r2cMpgkbQQX"
      },
      "execution_count": 7,
      "outputs": []
    },
    {
      "cell_type": "code",
      "source": [
        "lemmatizer = WordNetLemmatizer()\n",
        "\n",
        "def preprocess_text(text):\n",
        "    text = text.lower()\n",
        "    text = text.translate(str.maketrans('', '', string.punctuation))\n",
        "    tokens = word_tokenize(text)\n",
        "    stop_words = set(stopwords.words('english'))\n",
        "    tokens = [word for word in tokens if word not in stop_words]\n",
        "    lemmatized_tokens = [lemmatizer.lemmatize(word) for word in tokens]\n",
        "\n",
        "    return ' '.join(lemmatized_tokens)\n",
        "\n",
        "# Apply preprocessing to the 'text' column in the dataframe\n",
        "df2['processed_text'] = df2['text'].apply(preprocess_text)\n"
      ],
      "metadata": {
        "id": "Wd6yBtktbawu"
      },
      "execution_count": null,
      "outputs": []
    },
    {
      "cell_type": "markdown",
      "metadata": {
        "id": "HB5ve5GevddE"
      },
      "source": [
        "Create a Thesaurus:"
      ]
    },
    {
      "cell_type": "code",
      "source": [
        "# Create a CountVectorizer to create a document-term matrix\n",
        "vectorizer = CountVectorizer(binary=True)\n",
        "dtm = vectorizer.fit_transform(df2['processed_text'])\n",
        "\n",
        "# Get the vocabulary (words) from the CountVectorizer\n",
        "words = vectorizer.get_feature_names_out()\n",
        "\n",
        "# Multiply the document-term matrix by its transpose to get the co-occurrence matrix\n",
        "co_occurrence_matrix = dtm.T * dtm\n",
        "\n",
        "# Convert the co-occurrence matrix to a dense matrix\n",
        "co_occurrence_matrix_dense = co_occurrence_matrix.toarray()\n",
        "\n",
        "# Set a threshold for co-occurrence count\n",
        "threshold = 10\n",
        "\n",
        "# Create a thesaurus dictionary to store related words\n",
        "thesaurus = {}\n",
        "\n",
        "# Find words that co-occur more than the threshold and add them to the thesaurus\n",
        "for i in range(len(words)):\n",
        "    related_words = []\n",
        "    for j in range(len(words)):\n",
        "        if i != j and co_occurrence_matrix_dense[i][j] > threshold:\n",
        "            related_words.append(words[j])\n",
        "    if related_words:\n",
        "        thesaurus[words[i]] = related_words\n",
        "\n",
        "# Display thesaurus entries\n",
        "for word, related_words in thesaurus.items():\n",
        "    print(f\"{word}: {', '.join(related_words)}\")\n"
      ],
      "metadata": {
        "id": "ojemSVF3ben2"
      },
      "execution_count": null,
      "outputs": []
    }
  ],
  "metadata": {
    "colab": {
      "provenance": []
    },
    "kernelspec": {
      "display_name": "Python 3",
      "name": "python3"
    },
    "language_info": {
      "name": "python"
    }
  },
  "nbformat": 4,
  "nbformat_minor": 0
}